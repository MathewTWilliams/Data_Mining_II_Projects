{
 "cells": [
  {
   "cell_type": "code",
   "execution_count": 97,
   "metadata": {},
   "outputs": [
    {
     "name": "stdout",
     "output_type": "stream",
     "text": [
      "['/device:GPU:0']\n"
     ]
    }
   ],
   "source": [
    "import numpy as np\n",
    "import pandas as pd\n",
    "import os\n",
    "import matplotlib.pyplot as plt\n",
    "import matplotlib.image as mpimg\n",
    "\n",
    "from keras.utils import to_categorical\n",
    "from keras.models import Sequential\n",
    "from keras.layers import Dense, Dropout, Flatten, Conv2D, MaxPool2D, Input\n",
    "from keras.optimizers import RMSprop\n",
    "from keras.preprocessing.image import ImageDataGenerator\n",
    "from keras.callbacks import ReduceLROnPlateau, EarlyStopping\n",
    "from keras.losses import CategoricalCrossentropy\n",
    "from sklearn.model_selection import train_test_split\n",
    "from sklearn.metrics import ConfusionMatrixDisplay\n",
    "from keras import backend\n",
    "from matplotlib.ticker import MaxNLocator\n",
    "\n",
    "print(backend._get_available_gpus())\n",
    "%matplotlib inline\n",
    "\n",
    "# Constant values\n",
    "CWD = os.path.abspath(os.getcwd())\n",
    "TRAIN_CSV = os.path.join(CWD, \"train.csv\")\n",
    "TEST_CSV = os.path.join(CWD, \"test.csv\")\n",
    "RESULTS_CSV = os.path.join(CWD, \"results.csv\")\n",
    "IMG_WIDTH = 28\n",
    "IMG_HEIGHT = 28\n",
    "NUM_CHANNELS = 1\n",
    "NUM_CLASSES = 10\n",
    "RANDOM_SEED = 2\n",
    "NUM_EPOCHS = 36\n",
    "BATCH_SIZE = 128\n",
    "VAL_SIZE = 0.08\n",
    "OUTPUT_COLS = [\"ImageId\", \"Label\"]\n",
    "\n",
    "np.random.seed(2)\n",
    "\n",
    "train_df = pd.read_csv(TRAIN_CSV, index_col=False)\n",
    "test_df = pd.read_csv(TEST_CSV, index_col=False)\n",
    "\n",
    "Y_train = train_df[\"label\"]\n",
    "Y_train = to_categorical(Y_train, num_classes=NUM_CLASSES)\n",
    "\n",
    "X_train = train_df.drop(columns=\"label\")\n",
    "\n"
   ]
  },
  {
   "cell_type": "code",
   "execution_count": 98,
   "metadata": {},
   "outputs": [
    {
     "data": {
      "image/png": "[encoded data removed]",
      "text/plain": [
       "<Figure size 640x480 with 1 Axes>"
      ]
     },
     "metadata": {},
     "output_type": "display_data"
    }
   ],
   "source": [
    "X_train = X_train.values.reshape(-1, IMG_HEIGHT, IMG_WIDTH, NUM_CHANNELS)\n",
    "X_train = X_train/255\n",
    "ax = plt.imshow(X_train[1], cmap=\"gray\")"
   ]
  },
  {
   "cell_type": "code",
   "execution_count": 99,
   "metadata": {},
   "outputs": [],
   "source": [
    "\n",
    "X_train, X_val, Y_train, Y_val = train_test_split(X_train, Y_train,\n",
    "                                                test_size=VAL_SIZE, random_state=RANDOM_SEED)"
   ]
  },
  {
   "cell_type": "code",
   "execution_count": 100,
   "metadata": {},
   "outputs": [],
   "source": [
    "model = Sequential()\n",
    "\n",
    "model.add(Input(shape=(IMG_HEIGHT, IMG_WIDTH, NUM_CHANNELS))\n",
    "          )\n",
    "model.add(Conv2D(filters = 32, kernel_size = (5,5), padding = \"Same\",\n",
    "                activation=\"relu\"))\n",
    "model.add(Conv2D(filters=32, kernel_size=(5,5), padding = \"Same\",\n",
    "                activation=\"relu\"))\n",
    "\n",
    "model.add(MaxPool2D(pool_size=(2,2)))\n",
    "model.add(Dropout(0.25))\n",
    "\n",
    "model.add(Conv2D(filters=64, kernel_size=(3,3), padding = \"Same\",\n",
    "                activation=\"relu\"))\n",
    "\n",
    "model.add(Conv2D(filters=64, kernel_size=(3,3), padding = \"Same\",\n",
    "                activation=\"relu\"))\n",
    "\n",
    "model.add(MaxPool2D(pool_size=(2,2), strides=(2,2)))\n",
    "model.add(Dropout(0.25))\n",
    "\n",
    "model.add(Flatten())\n",
    "model.add(Dense(256, activation=\"relu\"))\n",
    "model.add(Dropout(0.5))\n",
    "model.add(Dense(NUM_CLASSES, activation=\"softmax\"))\n",
    "\n",
    "\n",
    "optimizer = RMSprop(learning_rate=0.001, rho=0.9, epsilon=1e-8, decay=0.0)\n",
    "loss_function = CategoricalCrossentropy()\n",
    "\n",
    "model.compile(optimizer=optimizer, loss = loss_function, metrics = [\"accuracy\"])\n",
    "\n",
    "learning_rate_reduction = ReduceLROnPlateau(monitor=\"val_accuracy\",\n",
    "                                            patience = 3,\n",
    "                                            verbose = 1,\n",
    "                                            factor = 0.5,\n",
    "                                            min_lr=0.00001,\n",
    "                                            mode = \"max\")\n",
    "\n",
    "early_stopping = EarlyStopping(monitor=\"val_accuracy\",\n",
    "                               min_delta=0.0001,\n",
    "                               mode = \"max\", \n",
    "                               verbose = 1, \n",
    "                               restore_best_weights=True,\n",
    "                               patience=8)"
   ]
  },
  {
   "cell_type": "code",
   "execution_count": 101,
   "metadata": {},
   "outputs": [],
   "source": [
    "datagen = ImageDataGenerator(\n",
    "    featurewise_center=False,\n",
    "    samplewise_center=False,\n",
    "    featurewise_std_normalization=False,\n",
    "    samplewise_std_normalization=False,\n",
    "    zca_whitening=False,\n",
    "    rotation_range=5,\n",
    "    zoom_range=0.05,\n",
    "    width_shift_range=0.15,\n",
    "    height_shift_range=0.15,\n",
    "    horizontal_flip=False,\n",
    "    vertical_flip=False,\n",
    ")"
   ]
  },
  {
   "cell_type": "code",
   "execution_count": 102,
   "metadata": {},
   "outputs": [
    {
     "name": "stdout",
     "output_type": "stream",
     "text": [
      "Epoch 1/36\n"
     ]
    },
    {
     "name": "stderr",
     "output_type": "stream",
     "text": [
      "C:\\Users\\mattw\\AppData\\Local\\Temp\\ipykernel_45088\\2231116692.py:1: UserWarning: `Model.fit_generator` is deprecated and will be removed in a future version. Please use `Model.fit`, which supports generators.\n",
      "  history = model.fit_generator(datagen.flow(X_train, Y_train, batch_size=BATCH_SIZE),\n"
     ]
    },
    {
     "name": "stdout",
     "output_type": "stream",
     "text": [
      "302/302 - 6s - loss: 0.5766 - accuracy: 0.8120 - val_loss: 0.1981 - val_accuracy: 0.9455 - lr: 0.0010 - 6s/epoch - 21ms/step\n",
      "Epoch 2/36\n",
      "302/302 - 6s - loss: 0.1591 - accuracy: 0.9517 - val_loss: 0.0544 - val_accuracy: 0.9821 - lr: 0.0010 - 6s/epoch - 18ms/step\n",
      "Epoch 3/36\n",
      "302/302 - 6s - loss: 0.1033 - accuracy: 0.9693 - val_loss: 0.0473 - val_accuracy: 0.9851 - lr: 0.0010 - 6s/epoch - 18ms/step\n",
      "Epoch 4/36\n",
      "302/302 - 6s - loss: 0.0818 - accuracy: 0.9750 - val_loss: 0.0957 - val_accuracy: 0.9780 - lr: 0.0010 - 6s/epoch - 19ms/step\n",
      "Epoch 5/36\n",
      "302/302 - 6s - loss: 0.0742 - accuracy: 0.9786 - val_loss: 0.0319 - val_accuracy: 0.9899 - lr: 0.0010 - 6s/epoch - 19ms/step\n",
      "Epoch 6/36\n",
      "302/302 - 6s - loss: 0.0671 - accuracy: 0.9806 - val_loss: 0.0336 - val_accuracy: 0.9905 - lr: 0.0010 - 6s/epoch - 19ms/step\n",
      "Epoch 7/36\n",
      "302/302 - 6s - loss: 0.0616 - accuracy: 0.9819 - val_loss: 0.0321 - val_accuracy: 0.9911 - lr: 0.0010 - 6s/epoch - 19ms/step\n",
      "Epoch 8/36\n",
      "302/302 - 6s - loss: 0.0559 - accuracy: 0.9838 - val_loss: 0.0267 - val_accuracy: 0.9911 - lr: 0.0010 - 6s/epoch - 19ms/step\n",
      "Epoch 9/36\n",
      "302/302 - 6s - loss: 0.0540 - accuracy: 0.9840 - val_loss: 0.0244 - val_accuracy: 0.9929 - lr: 0.0010 - 6s/epoch - 19ms/step\n",
      "Epoch 10/36\n",
      "302/302 - 6s - loss: 0.0528 - accuracy: 0.9859 - val_loss: 0.0322 - val_accuracy: 0.9926 - lr: 0.0010 - 6s/epoch - 18ms/step\n",
      "Epoch 11/36\n",
      "302/302 - 6s - loss: 0.0506 - accuracy: 0.9855 - val_loss: 0.0219 - val_accuracy: 0.9932 - lr: 0.0010 - 6s/epoch - 18ms/step\n",
      "Epoch 12/36\n",
      "302/302 - 5s - loss: 0.0510 - accuracy: 0.9857 - val_loss: 0.0231 - val_accuracy: 0.9943 - lr: 0.0010 - 5s/epoch - 18ms/step\n",
      "Epoch 13/36\n",
      "302/302 - 5s - loss: 0.0485 - accuracy: 0.9864 - val_loss: 0.0405 - val_accuracy: 0.9893 - lr: 0.0010 - 5s/epoch - 18ms/step\n",
      "Epoch 14/36\n",
      "302/302 - 6s - loss: 0.0495 - accuracy: 0.9869 - val_loss: 0.0267 - val_accuracy: 0.9914 - lr: 0.0010 - 6s/epoch - 18ms/step\n",
      "Epoch 15/36\n",
      "\n",
      "Epoch 15: ReduceLROnPlateau reducing learning rate to 0.0005000000237487257.\n",
      "302/302 - 6s - loss: 0.0482 - accuracy: 0.9871 - val_loss: 0.0309 - val_accuracy: 0.9908 - lr: 0.0010 - 6s/epoch - 18ms/step\n",
      "Epoch 16/36\n",
      "302/302 - 5s - loss: 0.0382 - accuracy: 0.9893 - val_loss: 0.0176 - val_accuracy: 0.9955 - lr: 5.0000e-04 - 5s/epoch - 18ms/step\n",
      "Epoch 17/36\n",
      "302/302 - 6s - loss: 0.0349 - accuracy: 0.9902 - val_loss: 0.0211 - val_accuracy: 0.9929 - lr: 5.0000e-04 - 6s/epoch - 18ms/step\n",
      "Epoch 18/36\n",
      "302/302 - 6s - loss: 0.0361 - accuracy: 0.9903 - val_loss: 0.0200 - val_accuracy: 0.9935 - lr: 5.0000e-04 - 6s/epoch - 18ms/step\n",
      "Epoch 19/36\n",
      "\n",
      "Epoch 19: ReduceLROnPlateau reducing learning rate to 0.0002500000118743628.\n",
      "302/302 - 6s - loss: 0.0366 - accuracy: 0.9903 - val_loss: 0.0206 - val_accuracy: 0.9946 - lr: 5.0000e-04 - 6s/epoch - 19ms/step\n",
      "Epoch 20/36\n",
      "302/302 - 6s - loss: 0.0310 - accuracy: 0.9915 - val_loss: 0.0145 - val_accuracy: 0.9961 - lr: 2.5000e-04 - 6s/epoch - 18ms/step\n",
      "Epoch 21/36\n",
      "302/302 - 5s - loss: 0.0277 - accuracy: 0.9922 - val_loss: 0.0164 - val_accuracy: 0.9964 - lr: 2.5000e-04 - 5s/epoch - 18ms/step\n",
      "Epoch 22/36\n",
      "302/302 - 6s - loss: 0.0304 - accuracy: 0.9921 - val_loss: 0.0158 - val_accuracy: 0.9958 - lr: 2.5000e-04 - 6s/epoch - 18ms/step\n",
      "Epoch 23/36\n",
      "302/302 - 6s - loss: 0.0265 - accuracy: 0.9924 - val_loss: 0.0231 - val_accuracy: 0.9937 - lr: 2.5000e-04 - 6s/epoch - 19ms/step\n",
      "Epoch 24/36\n",
      "\n",
      "Epoch 24: ReduceLROnPlateau reducing learning rate to 0.0001250000059371814.\n",
      "302/302 - 6s - loss: 0.0269 - accuracy: 0.9918 - val_loss: 0.0134 - val_accuracy: 0.9958 - lr: 2.5000e-04 - 6s/epoch - 19ms/step\n",
      "Epoch 25/36\n",
      "302/302 - 5s - loss: 0.0237 - accuracy: 0.9933 - val_loss: 0.0133 - val_accuracy: 0.9964 - lr: 1.2500e-04 - 5s/epoch - 18ms/step\n",
      "Epoch 26/36\n",
      "302/302 - 5s - loss: 0.0259 - accuracy: 0.9931 - val_loss: 0.0154 - val_accuracy: 0.9964 - lr: 1.2500e-04 - 5s/epoch - 18ms/step\n",
      "Epoch 27/36\n",
      "302/302 - 5s - loss: 0.0252 - accuracy: 0.9931 - val_loss: 0.0148 - val_accuracy: 0.9967 - lr: 1.2500e-04 - 5s/epoch - 18ms/step\n",
      "Epoch 28/36\n",
      "302/302 - 6s - loss: 0.0267 - accuracy: 0.9929 - val_loss: 0.0143 - val_accuracy: 0.9970 - lr: 1.2500e-04 - 6s/epoch - 19ms/step\n",
      "Epoch 29/36\n",
      "302/302 - 5s - loss: 0.0259 - accuracy: 0.9928 - val_loss: 0.0143 - val_accuracy: 0.9967 - lr: 1.2500e-04 - 5s/epoch - 18ms/step\n",
      "Epoch 30/36\n",
      "302/302 - 5s - loss: 0.0240 - accuracy: 0.9935 - val_loss: 0.0147 - val_accuracy: 0.9955 - lr: 1.2500e-04 - 5s/epoch - 18ms/step\n",
      "Epoch 31/36\n",
      "\n",
      "Epoch 31: ReduceLROnPlateau reducing learning rate to 6.25000029685907e-05.\n",
      "302/302 - 5s - loss: 0.0262 - accuracy: 0.9928 - val_loss: 0.0174 - val_accuracy: 0.9961 - lr: 1.2500e-04 - 5s/epoch - 18ms/step\n",
      "Epoch 32/36\n",
      "302/302 - 6s - loss: 0.0244 - accuracy: 0.9930 - val_loss: 0.0160 - val_accuracy: 0.9961 - lr: 6.2500e-05 - 6s/epoch - 18ms/step\n",
      "Epoch 33/36\n",
      "302/302 - 6s - loss: 0.0221 - accuracy: 0.9936 - val_loss: 0.0150 - val_accuracy: 0.9970 - lr: 6.2500e-05 - 6s/epoch - 19ms/step\n",
      "Epoch 34/36\n",
      "\n",
      "Epoch 34: ReduceLROnPlateau reducing learning rate to 3.125000148429535e-05.\n",
      "302/302 - 6s - loss: 0.0227 - accuracy: 0.9931 - val_loss: 0.0166 - val_accuracy: 0.9964 - lr: 6.2500e-05 - 6s/epoch - 18ms/step\n",
      "Epoch 35/36\n",
      "302/302 - 6s - loss: 0.0220 - accuracy: 0.9938 - val_loss: 0.0155 - val_accuracy: 0.9961 - lr: 3.1250e-05 - 6s/epoch - 18ms/step\n",
      "Epoch 36/36\n",
      "Restoring model weights from the end of the best epoch: 28.\n",
      "302/302 - 6s - loss: 0.0190 - accuracy: 0.9945 - val_loss: 0.0159 - val_accuracy: 0.9970 - lr: 3.1250e-05 - 6s/epoch - 19ms/step\n",
      "Epoch 36: early stopping\n"
     ]
    }
   ],
   "source": [
    "history = model.fit_generator(datagen.flow(X_train, Y_train, batch_size=BATCH_SIZE),\n",
    "                            epochs=NUM_EPOCHS, validation_data=(X_val, Y_val), \n",
    "                            verbose = 2, callbacks=[learning_rate_reduction, early_stopping])\n",
    "\n",
    "\n",
    "#history = model.fit(X_train, Y_train, batch_size=BATCH_SIZE,\n",
    "#                    epochs=NUM_EPOCHS, validation_data=(X_val, Y_val),\n",
    "#                    verbose = 2, callbacks=[learning_rate_reduction])"
   ]
  },
  {
   "cell_type": "code",
   "execution_count": 103,
   "metadata": {},
   "outputs": [
    {
     "data": {
      "image/png": "[encoded data removed]",
      "text/plain": [
       "<Figure size 640x480 with 2 Axes>"
      ]
     },
     "metadata": {},
     "output_type": "display_data"
    }
   ],
   "source": [
    "fig, ax = plt.subplots(2,1)\n",
    "ax[0].plot(history.history['loss'], color = 'b', label = \"Training Loss\")\n",
    "ax[0].plot(history.history['val_loss'], color = 'r', label=\"validation loss\")\n",
    "ax[0].xaxis.set_major_locator(MaxNLocator(integer = True))\n",
    "ax[0].legend(loc='best', shadow = True)\n",
    "\n",
    "ax[1].plot(history.history['accuracy'], color = 'b', label = \"Training Accuracy\")\n",
    "ax[1].plot(history.history['val_accuracy'], color = 'r', label=\"validation Accuracy\")\n",
    "ax[1].xaxis.set_major_locator(MaxNLocator(integer = True))\n",
    "legend = ax[1].legend(loc='best', shadow = True)"
   ]
  },
  {
   "cell_type": "code",
   "execution_count": 104,
   "metadata": {},
   "outputs": [
    {
     "name": "stdout",
     "output_type": "stream",
     "text": [
      "219/219 [==============================] - 0s 2ms/step\n"
     ]
    }
   ],
   "source": [
    "X_test = test_df.values.reshape(-1, IMG_HEIGHT, IMG_WIDTH, NUM_CHANNELS)\n",
    "X_test = X_test/255\n",
    "\n",
    "one_hot_predictions = model.predict(X_test, batch_size=BATCH_SIZE)\n",
    "predictions = np.argmax(one_hot_predictions, axis = -1)\n",
    "\n",
    "results_df = pd.DataFrame(columns=[\"ImageId\", \"Label\"])\n",
    "results_df[\"ImageId\"] = list(range(1, len(predictions) + 1))\n",
    "results_df[\"Label\"] = predictions\n",
    "\n",
    "results_df.to_csv(RESULTS_CSV, index=False)\n",
    "\n"
   ]
  }
 ],
 "metadata": {
  "kernelspec": {
   "display_name": ".env",
   "language": "python",
   "name": "python3"
  },
  "language_info": {
   "codemirror_mode": {
    "name": "ipython",
    "version": 3
   },
   "file_extension": ".py",
   "mimetype": "text/x-python",
   "name": "python",
   "nbconvert_exporter": "python",
   "pygments_lexer": "ipython3",
   "version": "3.10.2"
  },
  "orig_nbformat": 4,
  "vscode": {
   "interpreter": {
    "hash": "a9989a992a3b3144c968861353260ac4ba363df48d5d075c02b606e407790374"
   }
  }
 },
 "nbformat": 4,
 "nbformat_minor": 2
}
