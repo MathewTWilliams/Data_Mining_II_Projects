{
 "cells": [
  {
   "cell_type": "code",
   "execution_count": 1,
   "metadata": {},
   "outputs": [
    {
     "name": "stdout",
     "output_type": "stream",
     "text": [
      "['/device:GPU:0']\n"
     ]
    }
   ],
   "source": [
    "import numpy as np\n",
    "import pandas as pd\n",
    "import os\n",
    "import matplotlib.pyplot as plt\n",
    "\n",
    "from keras.utils import to_categorical\n",
    "from keras.models import Sequential\n",
    "from keras.layers import Dense, Dropout, Flatten, Conv2D, MaxPool2D, Input, BatchNormalization\n",
    "from keras.optimizers import RMSprop\n",
    "from keras.preprocessing.image import ImageDataGenerator\n",
    "from keras.callbacks import ReduceLROnPlateau\n",
    "from keras.losses import CategoricalCrossentropy\n",
    "from sklearn.model_selection import train_test_split\n",
    "from keras import backend\n",
    "from matplotlib.ticker import MaxNLocator\n",
    "\n",
    "print(backend._get_available_gpus())\n",
    "%matplotlib inline\n",
    "\n",
    "# Constant values\n",
    "CWD = os.path.abspath(os.getcwd())\n",
    "TRAIN_CSV = os.path.join(CWD, \"train.csv\")\n",
    "TEST_CSV = os.path.join(CWD, \"test.csv\")\n",
    "RESULTS_CSV = os.path.join(CWD, \"results.csv\")\n",
    "IMG_WIDTH = 28\n",
    "IMG_HEIGHT = 28\n",
    "NUM_CHANNELS = 1\n",
    "NUM_CLASSES = 10\n",
    "RANDOM_SEED = 2\n",
    "NUM_EPOCHS = 75\n",
    "BATCH_SIZE = 128\n",
    "VAL_SIZE = 0.08\n",
    "OUTPUT_COLS = [\"ImageId\", \"Label\"]\n",
    "\n",
    "np.random.seed(2)\n",
    "\n",
    "train_df = pd.read_csv(TRAIN_CSV, index_col=False)\n",
    "test_df = pd.read_csv(TEST_CSV, index_col=False)\n",
    "\n",
    "Y_train = train_df[\"label\"]\n",
    "Y_train = to_categorical(Y_train, num_classes=NUM_CLASSES)\n",
    "\n",
    "X_train = train_df.drop(columns=\"label\")\n",
    "\n"
   ]
  },
  {
   "cell_type": "code",
   "execution_count": 2,
   "metadata": {},
   "outputs": [
    {
     "data": {
      "image/png": "[encoded data removed]",
      "text/plain": [
       "<Figure size 640x480 with 1 Axes>"
      ]
     },
     "metadata": {},
     "output_type": "display_data"
    }
   ],
   "source": [
    "X_train = X_train.values.reshape(-1, IMG_HEIGHT, IMG_WIDTH, NUM_CHANNELS)\n",
    "X_train = X_train/255\n",
    "ax = plt.imshow(X_train[1], cmap=\"gray\")"
   ]
  },
  {
   "cell_type": "code",
   "execution_count": 3,
   "metadata": {},
   "outputs": [],
   "source": [
    "\n",
    "X_train, X_val, Y_train, Y_val = train_test_split(X_train, Y_train,\n",
    "                                                test_size=VAL_SIZE, random_state=RANDOM_SEED)"
   ]
  },
  {
   "cell_type": "code",
   "execution_count": 4,
   "metadata": {},
   "outputs": [],
   "source": [
    "model = Sequential()\n",
    "\n",
    "model.add(Input(shape=(IMG_HEIGHT, IMG_WIDTH, NUM_CHANNELS)))\n",
    "\n",
    "model.add(Conv2D(filters = 128, kernel_size = (5,5), padding = \"Same\",\n",
    "                activation=\"elu\"))\n",
    "model.add(BatchNormalization())\n",
    "\n",
    "model.add(Conv2D(filters = 128, kernel_size=(5,5), padding = \"Same\",\n",
    "                activation=\"elu\"))\n",
    "model.add(BatchNormalization())\n",
    "model.add(MaxPool2D(pool_size=(2,2), strides = (2,2)))\n",
    "model.add(Dropout(0.25))\n",
    "\n",
    "model.add(Conv2D(filters = 256, kernel_size=(3,3), padding = \"Same\",\n",
    "                activation=\"elu\"))\n",
    "model.add(BatchNormalization())\n",
    "\n",
    "model.add(Conv2D(filters = 256, kernel_size=(3,3), padding = \"Same\",\n",
    "                activation=\"elu\"))\n",
    "model.add(BatchNormalization())\n",
    "model.add(MaxPool2D(pool_size=(2,2), strides = (2,2)))\n",
    "model.add(Dropout(0.25))\n",
    "\n",
    "model.add(Flatten())\n",
    "model.add(Dense(256, activation=\"elu\"))\n",
    "model.add(BatchNormalization())\n",
    "model.add(Dropout(0.25))\n",
    "model.add(Dense(NUM_CLASSES, activation=\"softmax\"))\n",
    "\n",
    "optimizer = RMSprop(learning_rate=0.001, rho=0.9, epsilon=1e-8, decay=0.0)\n",
    "loss_function = CategoricalCrossentropy()\n",
    "\n",
    "model.compile(optimizer=optimizer, loss = loss_function, metrics = [\"accuracy\"])\n",
    "\n",
    "learning_rate_reduction = ReduceLROnPlateau(monitor=\"val_accuracy\",\n",
    "                                            patience = 3,\n",
    "                                            verbose = 2,\n",
    "                                            factor = 0.5,\n",
    "                                            min_lr=0.00001,\n",
    "                                            mode = \"max\")"
   ]
  },
  {
   "cell_type": "code",
   "execution_count": 5,
   "metadata": {},
   "outputs": [],
   "source": [
    "datagen = ImageDataGenerator(\n",
    "    featurewise_center=False,\n",
    "    samplewise_center=False,\n",
    "    featurewise_std_normalization=False,\n",
    "    samplewise_std_normalization=False,\n",
    "    zca_whitening=False,\n",
    "    rotation_range=10,\n",
    "    zoom_range=0.1,\n",
    "    width_shift_range=0.1,\n",
    "    height_shift_range=0.1,\n",
    "    horizontal_flip=False,\n",
    "    vertical_flip=False,\n",
    ")"
   ]
  },
  {
   "cell_type": "code",
   "execution_count": 6,
   "metadata": {},
   "outputs": [
    {
     "name": "stdout",
     "output_type": "stream",
     "text": [
      "Epoch 1/75\n"
     ]
    },
    {
     "name": "stderr",
     "output_type": "stream",
     "text": [
      "C:\\Users\\mattw\\AppData\\Local\\Temp\\ipykernel_14592\\2030602476.py:1: UserWarning: `Model.fit_generator` is deprecated and will be removed in a future version. Please use `Model.fit`, which supports generators.\n",
      "  history = model.fit_generator(datagen.flow(X_train, Y_train, batch_size=BATCH_SIZE),\n"
     ]
    },
    {
     "name": "stdout",
     "output_type": "stream",
     "text": [
      "302/302 - 16s - loss: 0.2355 - accuracy: 0.9291 - val_loss: 2.4812 - val_accuracy: 0.4274 - lr: 0.0010 - 16s/epoch - 52ms/step\n",
      "Epoch 2/75\n",
      "302/302 - 8s - loss: 0.0745 - accuracy: 0.9762 - val_loss: 0.0441 - val_accuracy: 0.9863 - lr: 0.0010 - 8s/epoch - 26ms/step\n",
      "Epoch 3/75\n",
      "302/302 - 8s - loss: 0.0581 - accuracy: 0.9817 - val_loss: 0.0548 - val_accuracy: 0.9842 - lr: 0.0010 - 8s/epoch - 26ms/step\n",
      "Epoch 4/75\n",
      "302/302 - 8s - loss: 0.0487 - accuracy: 0.9843 - val_loss: 0.0343 - val_accuracy: 0.9902 - lr: 0.0010 - 8s/epoch - 26ms/step\n",
      "Epoch 5/75\n",
      "302/302 - 8s - loss: 0.0411 - accuracy: 0.9873 - val_loss: 0.0350 - val_accuracy: 0.9890 - lr: 0.0010 - 8s/epoch - 26ms/step\n",
      "Epoch 6/75\n",
      "302/302 - 8s - loss: 0.0373 - accuracy: 0.9887 - val_loss: 0.0288 - val_accuracy: 0.9908 - lr: 0.0010 - 8s/epoch - 26ms/step\n",
      "Epoch 7/75\n",
      "302/302 - 8s - loss: 0.0320 - accuracy: 0.9903 - val_loss: 0.0329 - val_accuracy: 0.9911 - lr: 0.0010 - 8s/epoch - 26ms/step\n",
      "Epoch 8/75\n",
      "302/302 - 8s - loss: 0.0313 - accuracy: 0.9901 - val_loss: 0.0267 - val_accuracy: 0.9911 - lr: 0.0010 - 8s/epoch - 26ms/step\n",
      "Epoch 9/75\n",
      "302/302 - 8s - loss: 0.0286 - accuracy: 0.9912 - val_loss: 0.0359 - val_accuracy: 0.9878 - lr: 0.0010 - 8s/epoch - 26ms/step\n",
      "Epoch 10/75\n",
      "302/302 - 8s - loss: 0.0277 - accuracy: 0.9913 - val_loss: 0.0243 - val_accuracy: 0.9926 - lr: 0.0010 - 8s/epoch - 26ms/step\n",
      "Epoch 11/75\n",
      "302/302 - 8s - loss: 0.0252 - accuracy: 0.9924 - val_loss: 0.0162 - val_accuracy: 0.9952 - lr: 0.0010 - 8s/epoch - 26ms/step\n",
      "Epoch 12/75\n",
      "302/302 - 8s - loss: 0.0253 - accuracy: 0.9923 - val_loss: 0.0255 - val_accuracy: 0.9926 - lr: 0.0010 - 8s/epoch - 26ms/step\n",
      "Epoch 13/75\n",
      "302/302 - 8s - loss: 0.0221 - accuracy: 0.9932 - val_loss: 0.0308 - val_accuracy: 0.9911 - lr: 0.0010 - 8s/epoch - 27ms/step\n",
      "Epoch 14/75\n",
      "\n",
      "Epoch 14: ReduceLROnPlateau reducing learning rate to 0.0005000000237487257.\n",
      "302/302 - 8s - loss: 0.0219 - accuracy: 0.9930 - val_loss: 0.0252 - val_accuracy: 0.9914 - lr: 0.0010 - 8s/epoch - 27ms/step\n",
      "Epoch 15/75\n",
      "302/302 - 8s - loss: 0.0165 - accuracy: 0.9950 - val_loss: 0.0166 - val_accuracy: 0.9964 - lr: 5.0000e-04 - 8s/epoch - 26ms/step\n",
      "Epoch 16/75\n",
      "302/302 - 8s - loss: 0.0143 - accuracy: 0.9952 - val_loss: 0.0203 - val_accuracy: 0.9946 - lr: 5.0000e-04 - 8s/epoch - 26ms/step\n",
      "Epoch 17/75\n",
      "302/302 - 8s - loss: 0.0139 - accuracy: 0.9962 - val_loss: 0.0148 - val_accuracy: 0.9952 - lr: 5.0000e-04 - 8s/epoch - 26ms/step\n",
      "Epoch 18/75\n",
      "\n",
      "Epoch 18: ReduceLROnPlateau reducing learning rate to 0.0002500000118743628.\n",
      "302/302 - 8s - loss: 0.0138 - accuracy: 0.9959 - val_loss: 0.0203 - val_accuracy: 0.9940 - lr: 5.0000e-04 - 8s/epoch - 26ms/step\n",
      "Epoch 19/75\n",
      "302/302 - 8s - loss: 0.0112 - accuracy: 0.9965 - val_loss: 0.0195 - val_accuracy: 0.9946 - lr: 2.5000e-04 - 8s/epoch - 26ms/step\n",
      "Epoch 20/75\n",
      "302/302 - 8s - loss: 0.0105 - accuracy: 0.9968 - val_loss: 0.0194 - val_accuracy: 0.9943 - lr: 2.5000e-04 - 8s/epoch - 26ms/step\n",
      "Epoch 21/75\n",
      "\n",
      "Epoch 21: ReduceLROnPlateau reducing learning rate to 0.0001250000059371814.\n",
      "302/302 - 8s - loss: 0.0084 - accuracy: 0.9973 - val_loss: 0.0170 - val_accuracy: 0.9937 - lr: 2.5000e-04 - 8s/epoch - 26ms/step\n",
      "Epoch 22/75\n",
      "302/302 - 8s - loss: 0.0093 - accuracy: 0.9970 - val_loss: 0.0175 - val_accuracy: 0.9946 - lr: 1.2500e-04 - 8s/epoch - 26ms/step\n",
      "Epoch 23/75\n",
      "302/302 - 8s - loss: 0.0085 - accuracy: 0.9977 - val_loss: 0.0194 - val_accuracy: 0.9937 - lr: 1.2500e-04 - 8s/epoch - 26ms/step\n",
      "Epoch 24/75\n",
      "\n",
      "Epoch 24: ReduceLROnPlateau reducing learning rate to 6.25000029685907e-05.\n",
      "302/302 - 8s - loss: 0.0086 - accuracy: 0.9972 - val_loss: 0.0204 - val_accuracy: 0.9935 - lr: 1.2500e-04 - 8s/epoch - 26ms/step\n",
      "Epoch 25/75\n",
      "302/302 - 8s - loss: 0.0081 - accuracy: 0.9975 - val_loss: 0.0181 - val_accuracy: 0.9940 - lr: 6.2500e-05 - 8s/epoch - 26ms/step\n",
      "Epoch 26/75\n",
      "302/302 - 8s - loss: 0.0090 - accuracy: 0.9973 - val_loss: 0.0187 - val_accuracy: 0.9940 - lr: 6.2500e-05 - 8s/epoch - 26ms/step\n",
      "Epoch 27/75\n",
      "\n",
      "Epoch 27: ReduceLROnPlateau reducing learning rate to 3.125000148429535e-05.\n",
      "302/302 - 8s - loss: 0.0080 - accuracy: 0.9974 - val_loss: 0.0186 - val_accuracy: 0.9937 - lr: 6.2500e-05 - 8s/epoch - 26ms/step\n",
      "Epoch 28/75\n",
      "302/302 - 8s - loss: 0.0075 - accuracy: 0.9978 - val_loss: 0.0189 - val_accuracy: 0.9943 - lr: 3.1250e-05 - 8s/epoch - 26ms/step\n",
      "Epoch 29/75\n",
      "302/302 - 8s - loss: 0.0070 - accuracy: 0.9977 - val_loss: 0.0194 - val_accuracy: 0.9943 - lr: 3.1250e-05 - 8s/epoch - 26ms/step\n",
      "Epoch 30/75\n",
      "\n",
      "Epoch 30: ReduceLROnPlateau reducing learning rate to 1.5625000742147677e-05.\n",
      "302/302 - 8s - loss: 0.0071 - accuracy: 0.9979 - val_loss: 0.0201 - val_accuracy: 0.9937 - lr: 3.1250e-05 - 8s/epoch - 26ms/step\n",
      "Epoch 31/75\n",
      "302/302 - 8s - loss: 0.0070 - accuracy: 0.9981 - val_loss: 0.0199 - val_accuracy: 0.9937 - lr: 1.5625e-05 - 8s/epoch - 27ms/step\n",
      "Epoch 32/75\n",
      "302/302 - 8s - loss: 0.0070 - accuracy: 0.9979 - val_loss: 0.0197 - val_accuracy: 0.9937 - lr: 1.5625e-05 - 8s/epoch - 26ms/step\n",
      "Epoch 33/75\n",
      "\n",
      "Epoch 33: ReduceLROnPlateau reducing learning rate to 1e-05.\n",
      "302/302 - 8s - loss: 0.0074 - accuracy: 0.9976 - val_loss: 0.0201 - val_accuracy: 0.9937 - lr: 1.5625e-05 - 8s/epoch - 27ms/step\n",
      "Epoch 34/75\n",
      "302/302 - 8s - loss: 0.0077 - accuracy: 0.9978 - val_loss: 0.0204 - val_accuracy: 0.9937 - lr: 1.0000e-05 - 8s/epoch - 26ms/step\n",
      "Epoch 35/75\n",
      "302/302 - 8s - loss: 0.0062 - accuracy: 0.9982 - val_loss: 0.0202 - val_accuracy: 0.9940 - lr: 1.0000e-05 - 8s/epoch - 26ms/step\n",
      "Epoch 36/75\n",
      "302/302 - 8s - loss: 0.0065 - accuracy: 0.9981 - val_loss: 0.0199 - val_accuracy: 0.9937 - lr: 1.0000e-05 - 8s/epoch - 26ms/step\n",
      "Epoch 37/75\n",
      "302/302 - 8s - loss: 0.0064 - accuracy: 0.9979 - val_loss: 0.0200 - val_accuracy: 0.9940 - lr: 1.0000e-05 - 8s/epoch - 26ms/step\n",
      "Epoch 38/75\n",
      "302/302 - 8s - loss: 0.0075 - accuracy: 0.9977 - val_loss: 0.0200 - val_accuracy: 0.9940 - lr: 1.0000e-05 - 8s/epoch - 26ms/step\n",
      "Epoch 39/75\n",
      "302/302 - 8s - loss: 0.0067 - accuracy: 0.9979 - val_loss: 0.0200 - val_accuracy: 0.9937 - lr: 1.0000e-05 - 8s/epoch - 26ms/step\n",
      "Epoch 40/75\n",
      "302/302 - 8s - loss: 0.0070 - accuracy: 0.9980 - val_loss: 0.0202 - val_accuracy: 0.9937 - lr: 1.0000e-05 - 8s/epoch - 26ms/step\n",
      "Epoch 41/75\n",
      "302/302 - 8s - loss: 0.0064 - accuracy: 0.9979 - val_loss: 0.0203 - val_accuracy: 0.9937 - lr: 1.0000e-05 - 8s/epoch - 26ms/step\n",
      "Epoch 42/75\n",
      "302/302 - 8s - loss: 0.0071 - accuracy: 0.9979 - val_loss: 0.0200 - val_accuracy: 0.9937 - lr: 1.0000e-05 - 8s/epoch - 26ms/step\n",
      "Epoch 43/75\n",
      "302/302 - 8s - loss: 0.0059 - accuracy: 0.9982 - val_loss: 0.0201 - val_accuracy: 0.9937 - lr: 1.0000e-05 - 8s/epoch - 26ms/step\n",
      "Epoch 44/75\n",
      "302/302 - 8s - loss: 0.0070 - accuracy: 0.9980 - val_loss: 0.0203 - val_accuracy: 0.9937 - lr: 1.0000e-05 - 8s/epoch - 26ms/step\n",
      "Epoch 45/75\n",
      "302/302 - 8s - loss: 0.0065 - accuracy: 0.9984 - val_loss: 0.0205 - val_accuracy: 0.9937 - lr: 1.0000e-05 - 8s/epoch - 26ms/step\n",
      "Epoch 46/75\n",
      "302/302 - 8s - loss: 0.0077 - accuracy: 0.9977 - val_loss: 0.0204 - val_accuracy: 0.9937 - lr: 1.0000e-05 - 8s/epoch - 26ms/step\n",
      "Epoch 47/75\n",
      "302/302 - 8s - loss: 0.0063 - accuracy: 0.9983 - val_loss: 0.0205 - val_accuracy: 0.9935 - lr: 1.0000e-05 - 8s/epoch - 26ms/step\n",
      "Epoch 48/75\n",
      "302/302 - 8s - loss: 0.0073 - accuracy: 0.9979 - val_loss: 0.0205 - val_accuracy: 0.9935 - lr: 1.0000e-05 - 8s/epoch - 26ms/step\n",
      "Epoch 49/75\n",
      "302/302 - 8s - loss: 0.0064 - accuracy: 0.9981 - val_loss: 0.0202 - val_accuracy: 0.9935 - lr: 1.0000e-05 - 8s/epoch - 27ms/step\n",
      "Epoch 50/75\n",
      "302/302 - 8s - loss: 0.0078 - accuracy: 0.9977 - val_loss: 0.0204 - val_accuracy: 0.9935 - lr: 1.0000e-05 - 8s/epoch - 26ms/step\n",
      "Epoch 51/75\n",
      "302/302 - 8s - loss: 0.0066 - accuracy: 0.9982 - val_loss: 0.0204 - val_accuracy: 0.9937 - lr: 1.0000e-05 - 8s/epoch - 26ms/step\n",
      "Epoch 52/75\n",
      "302/302 - 8s - loss: 0.0070 - accuracy: 0.9979 - val_loss: 0.0203 - val_accuracy: 0.9940 - lr: 1.0000e-05 - 8s/epoch - 26ms/step\n",
      "Epoch 53/75\n",
      "302/302 - 8s - loss: 0.0069 - accuracy: 0.9978 - val_loss: 0.0201 - val_accuracy: 0.9937 - lr: 1.0000e-05 - 8s/epoch - 26ms/step\n",
      "Epoch 54/75\n",
      "302/302 - 8s - loss: 0.0065 - accuracy: 0.9979 - val_loss: 0.0202 - val_accuracy: 0.9935 - lr: 1.0000e-05 - 8s/epoch - 26ms/step\n",
      "Epoch 55/75\n",
      "302/302 - 8s - loss: 0.0059 - accuracy: 0.9983 - val_loss: 0.0201 - val_accuracy: 0.9940 - lr: 1.0000e-05 - 8s/epoch - 26ms/step\n",
      "Epoch 56/75\n",
      "302/302 - 8s - loss: 0.0077 - accuracy: 0.9980 - val_loss: 0.0204 - val_accuracy: 0.9940 - lr: 1.0000e-05 - 8s/epoch - 26ms/step\n",
      "Epoch 57/75\n",
      "302/302 - 8s - loss: 0.0060 - accuracy: 0.9983 - val_loss: 0.0205 - val_accuracy: 0.9937 - lr: 1.0000e-05 - 8s/epoch - 26ms/step\n",
      "Epoch 58/75\n",
      "302/302 - 8s - loss: 0.0060 - accuracy: 0.9984 - val_loss: 0.0207 - val_accuracy: 0.9937 - lr: 1.0000e-05 - 8s/epoch - 26ms/step\n",
      "Epoch 59/75\n",
      "302/302 - 8s - loss: 0.0061 - accuracy: 0.9981 - val_loss: 0.0204 - val_accuracy: 0.9937 - lr: 1.0000e-05 - 8s/epoch - 26ms/step\n",
      "Epoch 60/75\n",
      "302/302 - 8s - loss: 0.0070 - accuracy: 0.9980 - val_loss: 0.0204 - val_accuracy: 0.9937 - lr: 1.0000e-05 - 8s/epoch - 26ms/step\n",
      "Epoch 61/75\n",
      "302/302 - 8s - loss: 0.0077 - accuracy: 0.9975 - val_loss: 0.0205 - val_accuracy: 0.9937 - lr: 1.0000e-05 - 8s/epoch - 26ms/step\n",
      "Epoch 62/75\n",
      "302/302 - 8s - loss: 0.0063 - accuracy: 0.9981 - val_loss: 0.0204 - val_accuracy: 0.9940 - lr: 1.0000e-05 - 8s/epoch - 26ms/step\n",
      "Epoch 63/75\n",
      "302/302 - 8s - loss: 0.0062 - accuracy: 0.9982 - val_loss: 0.0203 - val_accuracy: 0.9940 - lr: 1.0000e-05 - 8s/epoch - 26ms/step\n",
      "Epoch 64/75\n",
      "302/302 - 8s - loss: 0.0061 - accuracy: 0.9982 - val_loss: 0.0205 - val_accuracy: 0.9940 - lr: 1.0000e-05 - 8s/epoch - 26ms/step\n",
      "Epoch 65/75\n",
      "302/302 - 8s - loss: 0.0062 - accuracy: 0.9982 - val_loss: 0.0203 - val_accuracy: 0.9940 - lr: 1.0000e-05 - 8s/epoch - 26ms/step\n",
      "Epoch 66/75\n",
      "302/302 - 8s - loss: 0.0060 - accuracy: 0.9982 - val_loss: 0.0206 - val_accuracy: 0.9937 - lr: 1.0000e-05 - 8s/epoch - 26ms/step\n",
      "Epoch 67/75\n",
      "302/302 - 8s - loss: 0.0070 - accuracy: 0.9981 - val_loss: 0.0209 - val_accuracy: 0.9937 - lr: 1.0000e-05 - 8s/epoch - 26ms/step\n",
      "Epoch 68/75\n",
      "302/302 - 8s - loss: 0.0065 - accuracy: 0.9980 - val_loss: 0.0206 - val_accuracy: 0.9937 - lr: 1.0000e-05 - 8s/epoch - 26ms/step\n",
      "Epoch 69/75\n",
      "302/302 - 8s - loss: 0.0063 - accuracy: 0.9981 - val_loss: 0.0205 - val_accuracy: 0.9937 - lr: 1.0000e-05 - 8s/epoch - 26ms/step\n",
      "Epoch 70/75\n",
      "302/302 - 8s - loss: 0.0061 - accuracy: 0.9982 - val_loss: 0.0204 - val_accuracy: 0.9937 - lr: 1.0000e-05 - 8s/epoch - 26ms/step\n",
      "Epoch 71/75\n",
      "302/302 - 8s - loss: 0.0062 - accuracy: 0.9979 - val_loss: 0.0206 - val_accuracy: 0.9935 - lr: 1.0000e-05 - 8s/epoch - 26ms/step\n",
      "Epoch 72/75\n",
      "302/302 - 8s - loss: 0.0063 - accuracy: 0.9980 - val_loss: 0.0209 - val_accuracy: 0.9937 - lr: 1.0000e-05 - 8s/epoch - 26ms/step\n",
      "Epoch 73/75\n",
      "302/302 - 8s - loss: 0.0063 - accuracy: 0.9982 - val_loss: 0.0208 - val_accuracy: 0.9937 - lr: 1.0000e-05 - 8s/epoch - 26ms/step\n",
      "Epoch 74/75\n",
      "302/302 - 8s - loss: 0.0057 - accuracy: 0.9982 - val_loss: 0.0208 - val_accuracy: 0.9937 - lr: 1.0000e-05 - 8s/epoch - 26ms/step\n",
      "Epoch 75/75\n",
      "302/302 - 8s - loss: 0.0057 - accuracy: 0.9984 - val_loss: 0.0207 - val_accuracy: 0.9937 - lr: 1.0000e-05 - 8s/epoch - 26ms/step\n"
     ]
    }
   ],
   "source": [
    "history = model.fit_generator(datagen.flow(X_train, Y_train, batch_size=BATCH_SIZE),\n",
    "                            epochs=NUM_EPOCHS, validation_data=(X_val, Y_val), \n",
    "                            verbose = 2, callbacks=[learning_rate_reduction])\n",
    "\n",
    "\n",
    "#history = model.fit(X_train, Y_train, batch_size=BATCH_SIZE,\n",
    "#                    epochs=NUM_EPOCHS, validation_data=(X_val, Y_val),\n",
    "#                    verbose = 2, callbacks=[learning_rate_reduction])"
   ]
  },
  {
   "cell_type": "code",
   "execution_count": 7,
   "metadata": {},
   "outputs": [
    {
     "data": {
      "image/png": "[encoded data removed]",
      "text/plain": [
       "<Figure size 640x480 with 2 Axes>"
      ]
     },
     "metadata": {},
     "output_type": "display_data"
    }
   ],
   "source": [
    "fig, ax = plt.subplots(2,1)\n",
    "ax[0].plot(history.history['loss'], color = 'b', label = \"Training Loss\")\n",
    "ax[0].plot(history.history['val_loss'], color = 'r', label=\"validation loss\")\n",
    "ax[0].xaxis.set_major_locator(MaxNLocator(integer = True))\n",
    "ax[0].legend(loc='best', shadow = True)\n",
    "\n",
    "ax[1].plot(history.history['accuracy'], color = 'b', label = \"Training Accuracy\")\n",
    "ax[1].plot(history.history['val_accuracy'], color = 'r', label=\"validation Accuracy\")\n",
    "ax[1].xaxis.set_major_locator(MaxNLocator(integer = True))\n",
    "legend = ax[1].legend(loc='best', shadow = True)"
   ]
  },
  {
   "cell_type": "code",
   "execution_count": 8,
   "metadata": {},
   "outputs": [
    {
     "name": "stdout",
     "output_type": "stream",
     "text": [
      "219/219 [==============================] - 1s 5ms/step\n"
     ]
    }
   ],
   "source": [
    "X_test = test_df.values.reshape(-1, IMG_HEIGHT, IMG_WIDTH, NUM_CHANNELS)\n",
    "X_test = X_test/255\n",
    "\n",
    "one_hot_predictions = model.predict(X_test, batch_size=BATCH_SIZE)\n",
    "predictions = np.argmax(one_hot_predictions, axis = -1)\n",
    "\n",
    "results_df = pd.DataFrame(columns=[\"ImageId\", \"Label\"])\n",
    "results_df[\"ImageId\"] = list(range(1, len(predictions) + 1))\n",
    "results_df[\"Label\"] = predictions\n",
    "\n",
    "results_df.to_csv(RESULTS_CSV, index=False)\n",
    "\n"
   ]
  }
 ],
 "metadata": {
  "kernelspec": {
   "display_name": ".env",
   "language": "python",
   "name": "python3"
  },
  "language_info": {
   "codemirror_mode": {
    "name": "ipython",
    "version": 3
   },
   "file_extension": ".py",
   "mimetype": "text/x-python",
   "name": "python",
   "nbconvert_exporter": "python",
   "pygments_lexer": "ipython3",
   "version": "3.10.2"
  },
  "orig_nbformat": 4,
  "vscode": {
   "interpreter": {
    "hash": "a9989a992a3b3144c968861353260ac4ba363df48d5d075c02b606e407790374"
   }
  }
 },
 "nbformat": 4,
 "nbformat_minor": 2
}
